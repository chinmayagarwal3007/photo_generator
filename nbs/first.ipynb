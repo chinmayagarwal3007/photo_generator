{
 "cells": [
  {
   "cell_type": "code",
   "execution_count": 29,
   "id": "0fe2c588",
   "metadata": {},
   "outputs": [],
   "source": [
    "import pathlib\n",
    "import mimetypes\n",
    "import shutil\n",
    "import tempfile\n",
    "from PIL import Image, ImageOps\n",
    "from decouple import config, AutoConfig\n"
   ]
  },
  {
   "cell_type": "code",
   "execution_count": 20,
   "id": "191cebe8",
   "metadata": {},
   "outputs": [],
   "source": [
    "NBS_DIR = pathlib.Path().resolve()\n",
    "REPO_DIR = NBS_DIR.parent\n",
    "DATA_DIR = REPO_DIR / \"data\"\n",
    "INPUTS_DIR = DATA_DIR / \"inputs\"\n",
    "OUTPUT_DIR = DATA_DIR / \"outputs\"\n",
    "READY_DIR = DATA_DIR/ \"ready\""
   ]
  },
  {
   "cell_type": "code",
   "execution_count": 21,
   "id": "db5392e8",
   "metadata": {},
   "outputs": [],
   "source": [
    "def perform_clear_and_optimize_image(image_path, output_path, max_size=(1920, 1920)):\n",
    "    \"\"\"\n",
    "    Removes all metadata from an image (e.g. EXIF data).\n",
    "    Optimizes the image file size while preserving quality and transparency when needed.\n",
    "    \"\"\"\n",
    "    # Convert to Path objects\n",
    "    image_path = pathlib.Path(image_path)\n",
    "    output_path = pathlib.Path(output_path)\n",
    "    \n",
    "    # Open and create clean copy\n",
    "    original = Image.open(image_path)\n",
    "\n",
    "    # Determine if image has transparency\n",
    "    has_transparency = (\n",
    "        original.mode in ('RGBA', 'LA') or \n",
    "        (original.mode == 'P' and 'transparency' in original.info)\n",
    "    )\n",
    "    \n",
    "    # Auto-rotate based on EXIF\n",
    "    original = ImageOps.exif_transpose(original)\n",
    "\n",
    "    # Resize if larger than max_size while maintaining aspect ratio\n",
    "    if original.size[0] > max_size[0] or original.size[1] > max_size[1]:\n",
    "        original.thumbnail(max_size, Image.Resampling.LANCZOS)\n",
    "\n",
    "    # Convert mode based on transparency\n",
    "    if has_transparency:\n",
    "        if original.mode != 'RGBA':\n",
    "            original = original.convert('RGBA')\n",
    "        best_format = 'PNG'\n",
    "    else:\n",
    "        if original.mode in ('RGBA', 'P', 'LA'):\n",
    "            original = original.convert('RGB')\n",
    "        best_format = 'JPEG'\n",
    "\n",
    "    # Save with optimized settings\n",
    "    save_kwargs = {}\n",
    "    if best_format == 'JPEG':\n",
    "        save_kwargs.update({\n",
    "            'quality': 85,\n",
    "            'optimize': True,\n",
    "            'progressive': True\n",
    "        })\n",
    "        output_path = output_path.with_suffix('.jpg')\n",
    "    elif best_format == 'PNG':\n",
    "        save_kwargs.update({\n",
    "            'optimize': True,\n",
    "            'compress_level': 6\n",
    "        })\n",
    "        output_path = output_path.with_suffix('.png')\n",
    "    print(f'Saving {output_path}')\n",
    "    original.save(output_path, format=best_format, **save_kwargs)\n",
    "    return output_path"
   ]
  },
  {
   "cell_type": "code",
   "execution_count": 18,
   "id": "645aeed9",
   "metadata": {},
   "outputs": [],
   "source": [
    "def perform_is_image(path, require_can_open = True):\n",
    "    try:\n",
    "        gussed_type, encoding = mimetypes.guess_type(path)\n",
    "    except:\n",
    "        gussed_type = \"\"\n",
    "    gussed_image = \"image\" in gussed_type\n",
    "    if not gussed_image:\n",
    "        return False\n",
    "    else:\n",
    "        if require_can_open:\n",
    "            try:\n",
    "                Image.open(path)\n",
    "            except:\n",
    "                return False\n",
    "    return True\n"
   ]
  },
  {
   "cell_type": "code",
   "execution_count": 24,
   "id": "e9bc9b57",
   "metadata": {},
   "outputs": [],
   "source": [
    "image_file_paths = []\n",
    "for file_path in INPUTS_DIR.glob(\"*\"):\n",
    "    if not perform_is_image(file_path):\n",
    "        continue\n",
    "    start_output_path = READY_DIR / file_path.name\n",
    "    final_output_path = perform_clear_and_optimize_image(file_path, start_output_path)\n",
    "    image_file_paths.append(final_output_path)"
   ]
  },
  {
   "cell_type": "code",
   "execution_count": 10,
   "id": "85b08b87",
   "metadata": {},
   "outputs": [],
   "source": [
    "OUTPUT_DIR.mkdir(exist_ok=True, parents=True)"
   ]
  },
  {
   "cell_type": "code",
   "execution_count": 11,
   "id": "df36e230",
   "metadata": {},
   "outputs": [
    {
     "data": {
      "text/plain": [
       "False"
      ]
     },
     "execution_count": 11,
     "metadata": {},
     "output_type": "execute_result"
    }
   ],
   "source": [
    "zip_outpath = OUTPUT_DIR / \"images.zip\"\n",
    "zip_outpath.exists()"
   ]
  },
  {
   "cell_type": "code",
   "execution_count": 23,
   "id": "7d1eeb5e",
   "metadata": {},
   "outputs": [],
   "source": [
    "with tempfile.TemporaryDirectory() as temp_dir:\n",
    "    for path in image_file_paths:\n",
    "        shutil.copy(path, temp_dir)\n",
    "    shutil.make_archive(zip_outpath.with_suffix(''), 'zip', temp_dir)"
   ]
  },
  {
   "cell_type": "code",
   "execution_count": 32,
   "id": "12c447b0",
   "metadata": {},
   "outputs": [],
   "source": [
    "import os\n",
    "config = AutoConfig(search_path=os.getcwd())\n",
    "REPLICATE_API_TOKEN = config(\"REPLICATE_API_TOKEN\")\n",
    "REPLICATE_MODEL = config(\"REPLICATE_MODEL\", default=\"\")\n",
    "REPLICATE_MODEL_VERSION = config(\"REPLICATE_MODEL_VERSION\", default=\"\")"
   ]
  },
  {
   "cell_type": "code",
   "execution_count": null,
   "id": "1d2addea",
   "metadata": {},
   "outputs": [],
   "source": [
    "from replicate.client import Client\n",
    "\n",
    "replicate_client = Client(api_token=REPLICATE_API_TOKEN)\n"
   ]
  }
 ],
 "metadata": {
  "kernelspec": {
   "display_name": "venv",
   "language": "python",
   "name": "python3"
  },
  "language_info": {
   "codemirror_mode": {
    "name": "ipython",
    "version": 3
   },
   "file_extension": ".py",
   "mimetype": "text/x-python",
   "name": "python",
   "nbconvert_exporter": "python",
   "pygments_lexer": "ipython3",
   "version": "3.12.1"
  }
 },
 "nbformat": 4,
 "nbformat_minor": 5
}
